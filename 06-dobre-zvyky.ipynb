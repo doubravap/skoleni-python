{
 "cells": [
  {
   "cell_type": "markdown",
   "metadata": {
    "slideshow": {
     "slide_type": "slide"
    }
   },
   "source": [
    "# [PEP8](https://www.python.org/dev/peps/pep-0008/) – Style Guide for Python Code"
   ]
  },
  {
   "cell_type": "markdown",
   "metadata": {
    "slideshow": {
     "slide_type": "subslide"
    }
   },
   "source": [
    "## Nejdůležitější v kostce\n",
    "\n",
    "- odsazení 4 mezery\n",
    "- žádné středníky\n",
    "- UTF-8\n",
    "- anglicky\n",
    "- nainstalovat automatický buzerovač (např. [flake8](http://flake8.pycqa.org/en/latest/))"
   ]
  },
  {
   "cell_type": "markdown",
   "metadata": {
    "slideshow": {
     "slide_type": "slide"
    }
   },
   "source": [
    "## Pojmenování\n",
    "\n",
    "- `mala_podtrzitka` – proměnné, funkce, atributy, metody\n",
    "- `VELKA_PODTRZITKA` – konstanty\n",
    "- `PrvniVelkaDohromady` – třídy\n",
    "- `_podtrzitko_na_zacatku` – privátní věci"
   ]
  },
  {
   "cell_type": "markdown",
   "metadata": {
    "slideshow": {
     "slide_type": "slide"
    }
   },
   "source": [
    "## Nejčastější prohřešky"
   ]
  },
  {
   "cell_type": "code",
   "execution_count": 12,
   "metadata": {
    "collapsed": false,
    "slideshow": {
     "slide_type": "subslide"
    }
   },
   "outputs": [],
   "source": [
    "# mezery u operátorů a struktur\n",
    "\n",
    "# NE\n",
    "x=2\n",
    "y = (x*2)-4\n",
    "slovnik = {\"a\":1,\"b\":3}\n",
    "seznam = [12,5,2]\n",
    "\n",
    "# ANO\n",
    "x = 2\n",
    "y = (x * 2) - 4\n",
    "slovnik = {\"a\": 1, \"b\": 3}\n",
    "seznam = [12, 5, 2]"
   ]
  },
  {
   "cell_type": "code",
   "execution_count": 18,
   "metadata": {
    "collapsed": true,
    "slideshow": {
     "slide_type": "subslide"
    }
   },
   "outputs": [],
   "source": [
    "# mezery v hlavičkách funkcí a volání funkcí\n",
    "\n",
    "# NE\n",
    "def udelej( co,*args,jak = None,**kwargs ):\n",
    "    return max(1,2,3)\n",
    "\n",
    "# ANO\n",
    "def udelej(co, *args, jak=None, **kwargs):\n",
    "    return max(1, 2, 3)"
   ]
  },
  {
   "cell_type": "code",
   "execution_count": 15,
   "metadata": {
    "collapsed": false,
    "slideshow": {
     "slide_type": "subslide"
    }
   },
   "outputs": [
    {
     "name": "stdout",
     "output_type": "stream",
     "text": [
      "jeden druhy\n",
      "jeden druhy\n",
      "jeden druhy\n",
      "jeden druhy\n"
     ]
    }
   ],
   "source": [
    "# sčítání řetězců\n",
    "\n",
    "# NE\n",
    "print(\"jeden \" + \"druhy\")\n",
    "\n",
    "# ANO\n",
    "print(\" \".join([\"jeden\", \"druhy\"]))\n",
    "print(\"{} {}\".format(\"jeden\", \"druhy\"))\n",
    "print(\"jeden\", \"druhy\")"
   ]
  },
  {
   "cell_type": "code",
   "execution_count": 24,
   "metadata": {
    "collapsed": false,
    "slideshow": {
     "slide_type": "subslide"
    }
   },
   "outputs": [
    {
     "data": {
      "text/plain": [
       "<_io.TextIOWrapper name='data/leave-me-alone.txt' mode='r' encoding='utf8'>"
      ]
     },
     "execution_count": 24,
     "metadata": {},
     "output_type": "execute_result"
    }
   ],
   "source": [
    "# spoléhání na implicitní chování\n",
    "\n",
    "# NE\n",
    "a = 1 + 2 * 3\n",
    "ntice = 1, 2, 3\n",
    "open(\"data/leave-me-alone.txt\")\n",
    "\n",
    "# ANO\n",
    "a = 1 + (2 * 3)\n",
    "ntice = (1, 2, 3)\n",
    "open(\"data/leave-me-alone.txt\", mode=\"r\", encoding=\"utf8\")"
   ]
  },
  {
   "cell_type": "markdown",
   "metadata": {
    "slideshow": {
     "slide_type": "slide"
    }
   },
   "source": [
    "# [PEP20](https://www.python.org/dev/peps/pep-0020/) – The Zen of Python"
   ]
  },
  {
   "cell_type": "code",
   "execution_count": 1,
   "metadata": {
    "collapsed": false,
    "scrolled": true,
    "slideshow": {
     "slide_type": "subslide"
    }
   },
   "outputs": [
    {
     "name": "stdout",
     "output_type": "stream",
     "text": [
      "The Zen of Python, by Tim Peters\n",
      "\n",
      "Beautiful is better than ugly.\n",
      "Explicit is better than implicit.\n",
      "Simple is better than complex.\n",
      "Complex is better than complicated.\n",
      "Flat is better than nested.\n",
      "Sparse is better than dense.\n",
      "Readability counts.\n",
      "Special cases aren't special enough to break the rules.\n",
      "Although practicality beats purity.\n",
      "Errors should never pass silently.\n",
      "Unless explicitly silenced.\n",
      "In the face of ambiguity, refuse the temptation to guess.\n",
      "There should be one-- and preferably only one --obvious way to do it.\n",
      "Although that way may not be obvious at first unless you're Dutch.\n",
      "Now is better than never.\n",
      "Although never is often better than *right* now.\n",
      "If the implementation is hard to explain, it's a bad idea.\n",
      "If the implementation is easy to explain, it may be a good idea.\n",
      "Namespaces are one honking great idea -- let's do more of those!\n"
     ]
    }
   ],
   "source": [
    "import this"
   ]
  },
  {
   "cell_type": "markdown",
   "metadata": {
    "slideshow": {
     "slide_type": "subslide"
    }
   },
   "source": [
    "### Subjektivní svatá trojice\n",
    "\n",
    "- Beautiful is better than ugly.\n",
    "- Explicit is better than implicit.\n",
    "- There should be one-- and preferably only one --obvious way to do it."
   ]
  },
  {
   "cell_type": "markdown",
   "metadata": {
    "slideshow": {
     "slide_type": "slide"
    }
   },
   "source": [
    "# Idiomy"
   ]
  },
  {
   "cell_type": "code",
   "execution_count": 28,
   "metadata": {
    "collapsed": false,
    "slideshow": {
     "slide_type": "subslide"
    }
   },
   "outputs": [
    {
     "name": "stdout",
     "output_type": "stream",
     "text": [
      "12\n",
      "8\n",
      "9\n",
      "12\n",
      "8\n",
      "9\n",
      "0 12\n",
      "1 8\n",
      "2 9\n"
     ]
    }
   ],
   "source": [
    "data = [12, 8, 9]\n",
    "\n",
    "# počítadlo v cyklu\n",
    "\n",
    "# NE\n",
    "for i in range(len(data)):\n",
    "    print(data[i])\n",
    "    \n",
    "# ANO\n",
    "for cislo in data:\n",
    "    print(cislo)\n",
    "\n",
    "# pokud potřebuju počítadlo\n",
    "for i, cislo in enumerate(data):\n",
    "    print(i, cislo)"
   ]
  },
  {
   "cell_type": "code",
   "execution_count": 38,
   "metadata": {
    "collapsed": false,
    "slideshow": {
     "slide_type": "subslide"
    }
   },
   "outputs": [],
   "source": [
    "# přiřazení více hodnot najednou\n",
    "a, b = 1, 2\n",
    "\n",
    "# prohození proměnných\n",
    "a, b = b, a\n",
    "\n",
    "# rozbalení zbylých hodnot\n",
    "a, b, *zbytek = data\n",
    "\n",
    "# odpadní proměnná\n",
    "a, b, *_ = data"
   ]
  },
  {
   "cell_type": "code",
   "execution_count": 47,
   "metadata": {
    "collapsed": false,
    "slideshow": {
     "slide_type": "subslide"
    }
   },
   "outputs": [
    {
     "data": {
      "text/plain": [
       "True"
      ]
     },
     "execution_count": 47,
     "metadata": {},
     "output_type": "execute_result"
    }
   ],
   "source": [
    "# vícero porovnání\n",
    "4 < a < 10\n",
    "\n",
    "# celočíselné dělení\n",
    "10 // 3\n",
    "\n",
    "# operátor is + operátor not\n",
    "type(a) is not float\n",
    "\n",
    "# operátor in\n",
    "a in [1, 2, 5]\n",
    "\"klic2\" in {\"klic1\": 4, \"klic2\": 5}"
   ]
  },
  {
   "cell_type": "markdown",
   "metadata": {
    "slideshow": {
     "slide_type": "slide"
    }
   },
   "source": [
    "# Myšlenkové přístupy"
   ]
  },
  {
   "cell_type": "markdown",
   "metadata": {
    "slideshow": {
     "slide_type": "subslide"
    }
   },
   "source": [
    "## EAFP\n",
    "\n",
    "> Easier to ask for forgiveness than permission."
   ]
  },
  {
   "cell_type": "code",
   "execution_count": 58,
   "metadata": {
    "collapsed": false,
    "slideshow": {
     "slide_type": "subslide"
    }
   },
   "outputs": [
    {
     "name": "stdout",
     "output_type": "stream",
     "text": [
      "Zadejte slova oddělená čárkou:a,b\n",
      "Zadejte slova oddělená čárkou:a,b\n"
     ]
    }
   ],
   "source": [
    "# NE\n",
    "vstup = input(\"Zadejte slova oddělená čárkou:\")\n",
    "if \",\" not in vstup:\n",
    "    print(\"Špatné zadání.\")\n",
    "else:\n",
    "    druhe_slovo = vstup.split(\",\")[1]\n",
    "\n",
    "\n",
    "# ANO - prostě to zkusit\n",
    "try:\n",
    "    druhe_slovo = input(\"Zadejte slova oddělená čárkou:\").split(\",\")[1]\n",
    "except IndexError:\n",
    "    print(\"Špatné zadání\")"
   ]
  },
  {
   "cell_type": "markdown",
   "metadata": {
    "slideshow": {
     "slide_type": "subslide"
    }
   },
   "source": [
    "## Duck typing\n",
    "\n",
    "> If it looks like a duck and quacks like a duck, it must be a duck."
   ]
  },
  {
   "cell_type": "code",
   "execution_count": 55,
   "metadata": {
    "collapsed": true,
    "slideshow": {
     "slide_type": "subslide"
    }
   },
   "outputs": [],
   "source": [
    "# správně\n",
    "def vrat_prvni_prvek(data):\n",
    "    return data[0]"
   ]
  },
  {
   "cell_type": "markdown",
   "metadata": {
    "slideshow": {
     "slide_type": "slide"
    }
   },
   "source": [
    "# Úkol\n",
    "\n",
    "- Nainstalujte a vyzkoušejte si nástroj pro automatickou kontrolu PEP8, např. zmiňovaný [flake8](http://flake8.pycqa.org/en/latest/).\n",
    "- Podívejte se na [PEP257](https://www.python.org/dev/peps/pep-0257/)."
   ]
  }
 ],
 "metadata": {
  "kernelspec": {
   "display_name": "Python 3",
   "language": "python",
   "name": "python3"
  },
  "language_info": {
   "codemirror_mode": {
    "name": "ipython",
    "version": 3
   },
   "file_extension": ".py",
   "mimetype": "text/x-python",
   "name": "python",
   "nbconvert_exporter": "python",
   "pygments_lexer": "ipython3",
   "version": "3.5.2"
  }
 },
 "nbformat": 4,
 "nbformat_minor": 0
}
