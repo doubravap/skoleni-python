{
 "cells": [
  {
   "cell_type": "markdown",
   "metadata": {
    "slideshow": {
     "slide_type": "slide"
    }
   },
   "source": [
    "# Generátorová notace pro `list`\n",
    "\n",
    "= Anglicky: \"list comprehension\".\n",
    "\n",
    "Umožňuje velmi elegantně vytvořit z jedné sekvence jinou. Umí to samé, co funkce `map` a `filter` dohromady."
   ]
  },
  {
   "cell_type": "code",
   "execution_count": null,
   "metadata": {
    "collapsed": true,
    "slideshow": {
     "slide_type": "subslide"
    }
   },
   "outputs": [],
   "source": [
    "cisla = list(range(20))\n",
    "\n",
    "# list comprehension\n",
    "druhe_mocniny = [cislo ** 2 for cislo in cisla if cislo > 5]"
   ]
  },
  {
   "cell_type": "code",
   "execution_count": null,
   "metadata": {
    "collapsed": true,
    "slideshow": {
     "slide_type": "fragment"
    }
   },
   "outputs": [],
   "source": [
    "# to samé pomocí for\n",
    "druhe_mocniny = []\n",
    "for cislo in cisla:\n",
    "    if cislo > 5:\n",
    "        druhe_mocniny.append(cislo ** 2)"
   ]
  },
  {
   "cell_type": "code",
   "execution_count": null,
   "metadata": {
    "collapsed": false,
    "slideshow": {
     "slide_type": "fragment"
    }
   },
   "outputs": [],
   "source": [
    "# to samé pomocí map, filter a lambda funkcí\n",
    "druhe_mocniny = list(  map(lambda cislo: cislo ** 2, filter(lambda cislo: cislo > 5, cisla))  )"
   ]
  },
  {
   "cell_type": "markdown",
   "metadata": {
    "slideshow": {
     "slide_type": "subslide"
    }
   },
   "source": [
    "```python\n",
    "# syntaxe\n",
    "[VYRAZ for PROMENNA in SEKVENCE if PODMINKA]\n",
    "```\n",
    "\n",
    "- `SEKVENCE` + `PROMENNA` = stejně jako hlavička `for`\n",
    "- `VYRAZ` = vnitřek volání `append`\n",
    "- `PODMINKA` = podmínka uvnitř těla `for`, *volitelná součást*"
   ]
  },
  {
   "cell_type": "code",
   "execution_count": null,
   "metadata": {
    "collapsed": false,
    "slideshow": {
     "slide_type": "subslide"
    }
   },
   "outputs": [],
   "source": [
    "# lze volat funkce\n",
    "[ord(ch) for ch in \"Ahoj svete!\" if ord(\"a\") <= ord(ch) <= ord(\"z\")]"
   ]
  },
  {
   "cell_type": "code",
   "execution_count": null,
   "metadata": {
    "collapsed": false,
    "slideshow": {
     "slide_type": "fragment"
    }
   },
   "outputs": [],
   "source": [
    "# lze vnořovat - opatrně\n",
    "[ [(x, y) for y in range(5)] for x in range(3)]"
   ]
  },
  {
   "cell_type": "code",
   "execution_count": null,
   "metadata": {
    "collapsed": false,
    "slideshow": {
     "slide_type": "fragment"
    }
   },
   "outputs": [],
   "source": [
    "# jakási varianta kartézského součinu - taky opatrně\n",
    "data = [(x, y) for y in range(3) for x in range(2)]\n",
    "\n",
    "# ekvivalentní zápis\n",
    "for y in range(3):\n",
    "    for x in range(2):\n",
    "        data.append((x, y))\n",
    "print(data)"
   ]
  },
  {
   "cell_type": "markdown",
   "metadata": {
    "slideshow": {
     "slide_type": "subslide"
    }
   },
   "source": [
    "# Generátorová notace pro `dict`\n",
    "\n",
    "Vychází z list comprehension.\n",
    "\n",
    "```python\n",
    "# syntaxe\n",
    "{KLIC: HODNOTA for PROMENNA in SEKVENCE if PODMINKA}\n",
    "```"
   ]
  },
  {
   "cell_type": "code",
   "execution_count": null,
   "metadata": {
    "collapsed": false,
    "slideshow": {
     "slide_type": "subslide"
    }
   },
   "outputs": [],
   "source": [
    "# slovník mocnin dvou\n",
    "{x: 2 ** x for x in range(10)}"
   ]
  },
  {
   "cell_type": "code",
   "execution_count": null,
   "metadata": {
    "collapsed": false,
    "slideshow": {
     "slide_type": "fragment"
    }
   },
   "outputs": [],
   "source": [
    "import math\n",
    "\n",
    "def slozity_vypocet(vstup):\n",
    "    return math.sin(vstup)\n",
    "\n",
    "# sinus sudých čísel v intervalu <0; 10) s textovým klíčem\n",
    "{\"hodnota-{}\".format(x): slozity_vypocet(x) for x in range(10) if x % 2 == 0}"
   ]
  },
  {
   "cell_type": "markdown",
   "metadata": {
    "slideshow": {
     "slide_type": "subslide"
    }
   },
   "source": [
    "# Generátorová notace pro `set`\n"
   ]
  },
  {
   "cell_type": "code",
   "execution_count": null,
   "metadata": {
    "collapsed": false
   },
   "outputs": [],
   "source": [
    "{pismeno for pismeno in \"hustodémonsky megakrutopřísně\" if ord(pismeno) >= ord(\"o\")}"
   ]
  },
  {
   "cell_type": "markdown",
   "metadata": {
    "slideshow": {
     "slide_type": "subslide"
    }
   },
   "source": [
    "# Generátorová notace pro generátor"
   ]
  },
  {
   "cell_type": "code",
   "execution_count": null,
   "metadata": {
    "collapsed": false,
    "slideshow": {
     "slide_type": "-"
    }
   },
   "outputs": [],
   "source": [
    "(cislo ** 2 for cislo in range(10000000) if cislo > 5)"
   ]
  },
  {
   "cell_type": "markdown",
   "metadata": {
    "slideshow": {
     "slide_type": "fragment"
    }
   },
   "source": [
    "![Generators...](https://i.imgflip.com/17w2u9.jpg)"
   ]
  },
  {
   "cell_type": "markdown",
   "metadata": {
    "slideshow": {
     "slide_type": "slide"
    }
   },
   "source": [
    "# Generátor\n",
    "\n",
    "= Věc, která umí generovat sekvenci prvků (konečnou nebo nekonečnou). Nedělá to však najednou, ale drží si *vnitřní stav* a prvky vydává *postupně*, jak jsou potřeba."
   ]
  },
  {
   "cell_type": "code",
   "execution_count": null,
   "metadata": {
    "collapsed": false
   },
   "outputs": [],
   "source": [
    "# konečný generátor\n",
    "def zdravic():\n",
    "    yield \"ahoj\"\n",
    "    yield \"nazdar\"\n",
    "    # automatický raise StopIteration()\n",
    "    \n",
    "for pozdrav in zdravic():\n",
    "    print(pozdrav)"
   ]
  },
  {
   "cell_type": "code",
   "execution_count": null,
   "metadata": {
    "collapsed": false,
    "slideshow": {
     "slide_type": "subslide"
    }
   },
   "outputs": [],
   "source": [
    "# nekonečný generátor\n",
    "def stamgast():\n",
    "    print(\"Nazdar hospodskej!\")\n",
    "    yield \"Chci pivo.\"\n",
    "    while True:\n",
    "        yield \"Ještě jedno...\"\n",
    "\n",
    "for kolik_piv, co_to_bude in enumerate(stamgast()):\n",
    "    print(co_to_bude)\n",
    "    if kolik_piv >= 3:\n",
    "        break"
   ]
  },
  {
   "cell_type": "markdown",
   "metadata": {
    "slideshow": {
     "slide_type": "subslide"
    }
   },
   "source": [
    "## Co se děje?"
   ]
  },
  {
   "cell_type": "code",
   "execution_count": null,
   "metadata": {
    "collapsed": false
   },
   "outputs": [],
   "source": [
    "pepa = stamgast()  # trochu připomíná konstruktor, že?\n",
    "print(\"Nazdar Pepo.\")  # pořadí !!\n",
    "print(\"1:\", next(pepa))\n",
    "print(\"2:\", next(pepa))\n",
    "print(\"3:\", next(pepa))"
   ]
  },
  {
   "cell_type": "markdown",
   "metadata": {
    "slideshow": {
     "slide_type": "slide"
    }
   },
   "source": [
    "# Iterátor\n",
    "\n",
    "= Generátor v objektovém podání. Používá magické metody:\n",
    "\n",
    "- `__iter__` – Vytváří iterátor. Vrací objekt, na kterém se má volat `__next__`.\n",
    "- `__next__` – Vrací další prvek nebo výjimku `StopIteration`."
   ]
  },
  {
   "cell_type": "code",
   "execution_count": null,
   "metadata": {
    "collapsed": false,
    "slideshow": {
     "slide_type": "subslide"
    }
   },
   "outputs": [],
   "source": [
    "from random import shuffle\n",
    "\n",
    "class Posta(object):\n",
    "    \n",
    "    def __init__(self):\n",
    "        self.baliky = [\"velký\", \"malý\", \"rozbitý\", \"politý\", \"ohořelý\"]\n",
    "    \n",
    "    # oblíbený trik se `self`\n",
    "    def __iter__(self):\n",
    "        shuffle(self.baliky)\n",
    "        return self\n",
    "    \n",
    "    def __next__(self):\n",
    "        # balíky už nejsou\n",
    "        if not self.baliky:\n",
    "            raise StopIteration()\n",
    "        \n",
    "        # vydat balík\n",
    "        return self.baliky.pop()\n",
    "\n",
    "# zákaznická smyčka\n",
    "for balik in Posta():\n",
    "    print(balik)"
   ]
  },
  {
   "cell_type": "markdown",
   "metadata": {
    "slideshow": {
     "slide_type": "slide"
    }
   },
   "source": [
    "# Příklad\n",
    "\n",
    "- Otevřete soubor `data/accel.csv` a přečtěte ho po řádcích, komentáře přeskakujte.\n",
    "- Kód obalte do generátoru nebo iterátoru, který řádky generuje po jednom.\n",
    "- Vytvořte seznam *časů* vzorků, které mají zrychlení alespoň v jedné ose absolutně větší než 1 (použijte list comprehension a vámi vytvořený generátor / iterátor).\n",
    "\n",
    "Příklad hledaného vzroku:  \n",
    "`101.776 -0.01171875 -0.10546875 -1.0078125`"
   ]
  }
 ],
 "metadata": {
  "kernelspec": {
   "display_name": "Python 3",
   "language": "python",
   "name": "python3"
  },
  "language_info": {
   "codemirror_mode": {
    "name": "ipython",
    "version": 3
   },
   "file_extension": ".py",
   "mimetype": "text/x-python",
   "name": "python",
   "nbconvert_exporter": "python",
   "pygments_lexer": "ipython3",
   "version": "3.5.2"
  }
 },
 "nbformat": 4,
 "nbformat_minor": 0
}
