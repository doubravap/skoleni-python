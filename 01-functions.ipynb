{
 "cells": [
  {
   "cell_type": "markdown",
   "metadata": {
    "slideshow": {
     "slide_type": "slide"
    }
   },
   "source": [
    "# Funkce"
   ]
  },
  {
   "cell_type": "markdown",
   "metadata": {
    "slideshow": {
     "slide_type": "fragment"
    }
   },
   "source": [
    "Jsou *first class objects*:\n",
    "\n",
    "> In short, it means there are no restrictions on the object's use."
   ]
  },
  {
   "cell_type": "code",
   "execution_count": null,
   "metadata": {
    "collapsed": false,
    "slideshow": {
     "slide_type": "subslide"
    }
   },
   "outputs": [],
   "source": [
    "def secti(a, b):\n",
    "    \"\"\"Sečte dvě čísla.\"\"\"\n",
    "    return a + b\n",
    "\n",
    "# funkce lze (překvapivě) volat\n",
    "print(secti(1, 2))\n",
    "\n",
    "# lze je aliasovat\n",
    "add = secti\n",
    "print(add(2, 5))\n",
    "\n",
    "# lze smazat původní referenci\n",
    "del secti\n",
    "print(add(10, 11))\n",
    "\n",
    "# mají atributy\n",
    "print(add.__doc__)\n",
    "\n",
    "# lze je přepsat jinými hodnotami\n",
    "add = 3\n",
    "print(add)"
   ]
  },
  {
   "cell_type": "markdown",
   "metadata": {
    "slideshow": {
     "slide_type": "slide"
    }
   },
   "source": [
    "## Uzávěry (closures)\n",
    "\n",
    "= Funkce, které si s sebou nesou *kontext*. Fungují tak např. dekorátory."
   ]
  },
  {
   "cell_type": "code",
   "execution_count": null,
   "metadata": {
    "collapsed": false,
    "slideshow": {
     "slide_type": "subslide"
    }
   },
   "outputs": [],
   "source": [
    "from random import random\n",
    "\n",
    "def vyrob_scitacku(pricitane_cislo):\n",
    "    chyba = random()\n",
    "\n",
    "    # vytvoříme uzávěru\n",
    "    def scitacka(x):\n",
    "        # mám k dispozici:\n",
    "        # - `x` (parametr, dynamický)\n",
    "        # - `chyba` (z kontextu)\n",
    "        # - `pricitane_cislo` (z pohledu uzávěry to samé jako magicke_cislo)\n",
    "        return x + chyba + pricitane_cislo\n",
    "\n",
    "    # `scitacka` je first class object...\n",
    "    return scitacka"
   ]
  },
  {
   "cell_type": "code",
   "execution_count": null,
   "metadata": {
    "collapsed": false,
    "slideshow": {
     "slide_type": "subslide"
    }
   },
   "outputs": [],
   "source": [
    "pricti_5 = vyrob_scitacku(5)"
   ]
  },
  {
   "cell_type": "code",
   "execution_count": null,
   "metadata": {
    "collapsed": false,
    "slideshow": {
     "slide_type": "fragment"
    }
   },
   "outputs": [],
   "source": [
    "# stále stejná \"chyba\"\n",
    "print(pricti_5(10))\n",
    "print(pricti_5(5))"
   ]
  },
  {
   "cell_type": "code",
   "execution_count": null,
   "metadata": {
    "collapsed": false,
    "slideshow": {
     "slide_type": "fragment"
    }
   },
   "outputs": [],
   "source": [
    "del vyrob_scitacku"
   ]
  },
  {
   "cell_type": "code",
   "execution_count": null,
   "metadata": {
    "collapsed": false,
    "slideshow": {
     "slide_type": "fragment"
    }
   },
   "outputs": [],
   "source": [
    "# uzávěra stále drží kontext i po smazání původní funkce\n",
    "pricti_5(10)"
   ]
  },
  {
   "cell_type": "markdown",
   "metadata": {
    "slideshow": {
     "slide_type": "slide"
    }
   },
   "source": [
    "![Lambda](https://upload.wikimedia.org/wikipedia/commons/8/8f/Orange_lambda.svg)\n",
    "\n",
    "## Lambda funkce"
   ]
  },
  {
   "cell_type": "markdown",
   "metadata": {
    "slideshow": {
     "slide_type": "fragment"
    }
   },
   "source": [
    "= Bezejmenné funkce *na jeden řádek*, automatický `return`."
   ]
  },
  {
   "cell_type": "markdown",
   "metadata": {
    "slideshow": {
     "slide_type": "subslide"
    }
   },
   "source": [
    "**Použití:**\n",
    "- uzávěry\n",
    "- filtrování, mapování\n",
    "- řazení"
   ]
  },
  {
   "cell_type": "code",
   "execution_count": null,
   "metadata": {
    "collapsed": false,
    "slideshow": {
     "slide_type": "fragment"
    }
   },
   "outputs": [],
   "source": [
    "# syntaxe\n",
    "lambda x, exp: x ** exp"
   ]
  },
  {
   "cell_type": "markdown",
   "metadata": {
    "slideshow": {
     "slide_type": "slide"
    }
   },
   "source": [
    "### Uzávěra pomocí lambdy"
   ]
  },
  {
   "cell_type": "code",
   "execution_count": null,
   "metadata": {
    "collapsed": false,
    "slideshow": {
     "slide_type": "fragment"
    }
   },
   "outputs": [],
   "source": [
    "# výše uvedené ještě jednou\n",
    "def vyrob_scitacku(pricitane_cislo):\n",
    "    chyba = random()\n",
    "    return (lambda x: x + chyba + pricitane_cislo)\n",
    "\n",
    "base_of_the_universe = vyrob_scitacku(42)\n",
    "base_of_the_universe(2)"
   ]
  },
  {
   "cell_type": "markdown",
   "metadata": {
    "slideshow": {
     "slide_type": "slide"
    }
   },
   "source": [
    "### `filter` + `map`\n",
    "```\n",
    "filter(function or None, iterable) --> filter object\n",
    "\n",
    "Return an iterator yielding those items of iterable for which function(item) is true. ...\n",
    "```"
   ]
  },
  {
   "cell_type": "code",
   "execution_count": null,
   "metadata": {
    "collapsed": true,
    "slideshow": {
     "slide_type": "subslide"
    }
   },
   "outputs": [],
   "source": [
    "data = [1, 2, 8, 5, 0, 4, 7]"
   ]
  },
  {
   "cell_type": "code",
   "execution_count": null,
   "metadata": {
    "collapsed": false,
    "slideshow": {
     "slide_type": "-"
    }
   },
   "outputs": [],
   "source": [
    "# filtrování bez lambdy\n",
    "def je_sude(x):\n",
    "    return (x % 2) == 0\n",
    "\n",
    "list(filter(je_sude, data))"
   ]
  },
  {
   "cell_type": "code",
   "execution_count": null,
   "metadata": {
    "collapsed": false,
    "slideshow": {
     "slide_type": "fragment"
    }
   },
   "outputs": [],
   "source": [
    "# s lambdou\n",
    "list(filter(lambda x: x % 2 == 0, data))"
   ]
  },
  {
   "cell_type": "code",
   "execution_count": null,
   "metadata": {
    "collapsed": false,
    "slideshow": {
     "slide_type": "fragment"
    }
   },
   "outputs": [],
   "source": [
    "# mapování lambda funkce na data - vyrob druhé mocniny\n",
    "list(map(lambda x: x ** 2, data))"
   ]
  },
  {
   "cell_type": "markdown",
   "metadata": {
    "slideshow": {
     "slide_type": "slide"
    }
   },
   "source": [
    "### Řazení\n",
    "\n",
    "```\n",
    "sorted(iterable, key=None, ...)\n",
    "\n",
    "... A custom key function can be supplied ...\n",
    "```"
   ]
  },
  {
   "cell_type": "code",
   "execution_count": null,
   "metadata": {
    "collapsed": false,
    "slideshow": {
     "slide_type": "subslide"
    }
   },
   "outputs": [],
   "source": [
    "jmena = [\"Zita\", \"Adam\", \"Dan\"]\n",
    "sorted(jmena)"
   ]
  },
  {
   "cell_type": "code",
   "execution_count": null,
   "metadata": {
    "collapsed": false,
    "slideshow": {
     "slide_type": "fragment"
    }
   },
   "outputs": [],
   "source": [
    "# alternativní řadící klíč\n",
    "def posledni_pismeno(text):\n",
    "    return text[-1]\n",
    "\n",
    "sorted(jmena, key=posledni_pismeno)"
   ]
  },
  {
   "cell_type": "code",
   "execution_count": null,
   "metadata": {
    "collapsed": false,
    "slideshow": {
     "slide_type": "fragment"
    }
   },
   "outputs": [],
   "source": [
    "# s lambdou mnohem elegantnější\n",
    "sorted(jmena, key=lambda jmeno: jmeno[-1])"
   ]
  },
  {
   "cell_type": "markdown",
   "metadata": {
    "slideshow": {
     "slide_type": "slide"
    }
   },
   "source": [
    "# Anti-patterns – aneb co NEdělat"
   ]
  },
  {
   "cell_type": "code",
   "execution_count": null,
   "metadata": {
    "collapsed": false,
    "slideshow": {
     "slide_type": "subslide"
    }
   },
   "outputs": [],
   "source": [
    "# NE - vyrábět z lambdy běžnou funkci\n",
    "na_druhou = lambda x: x ** 2\n",
    "na_druhou(4)"
   ]
  },
  {
   "cell_type": "code",
   "execution_count": null,
   "metadata": {
    "collapsed": false,
    "slideshow": {
     "slide_type": "fragment"
    }
   },
   "outputs": [],
   "source": [
    "# lepší - pokud vím, že ji budu používat opakovaně\n",
    "def na_druhou(x):\n",
    "    return x ** 2\n",
    "\n",
    "na_druhou(4)"
   ]
  },
  {
   "cell_type": "code",
   "execution_count": null,
   "metadata": {
    "collapsed": false,
    "slideshow": {
     "slide_type": "subslide"
    }
   },
   "outputs": [],
   "source": [
    "# NE - vnořené lambdy\n",
    "vzorky = [\n",
    "    (3, 12, 90),\n",
    "    (2, 12, 88),\n",
    "    (2, 11, 97),\n",
    "]\n",
    "sorted(vzorky, key=lambda vzorek: max(filter(lambda x: x % 2 == 0, vzorek)))"
   ]
  },
  {
   "cell_type": "code",
   "execution_count": null,
   "metadata": {
    "collapsed": false,
    "slideshow": {
     "slide_type": "fragment"
    }
   },
   "outputs": [],
   "source": [
    "# lepší (používá definici `je_sude` výše)\n",
    "sorted(vzorky, key=lambda vzorek: max(filter(je_sude, vzorek)))"
   ]
  },
  {
   "cell_type": "code",
   "execution_count": null,
   "metadata": {
    "collapsed": false,
    "slideshow": {
     "slide_type": "fragment"
    }
   },
   "outputs": [],
   "source": [
    "# nejlepší\n",
    "def max_sude(data):\n",
    "    return max(filter(je_sude, data))\n",
    "\n",
    "sorted(vzorky, key=max_sude)"
   ]
  },
  {
   "cell_type": "markdown",
   "metadata": {
    "slideshow": {
     "slide_type": "slide"
    }
   },
   "source": [
    "# Příklad\n",
    "\n",
    "- Napište lambda funkci, která po předání do `sorted` *zamíchá* řazená data."
   ]
  },
  {
   "cell_type": "code",
   "execution_count": null,
   "metadata": {
    "collapsed": false,
    "slideshow": {
     "slide_type": "skip"
    }
   },
   "outputs": [],
   "source": [
    "data = list(range(20))\n",
    "\n",
    "# TODO"
   ]
  }
 ],
 "metadata": {
  "kernelspec": {
   "display_name": "Python 3",
   "language": "python",
   "name": "python3"
  },
  "language_info": {
   "codemirror_mode": {
    "name": "ipython",
    "version": 3
   },
   "file_extension": ".py",
   "mimetype": "text/x-python",
   "name": "python",
   "nbconvert_exporter": "python",
   "pygments_lexer": "ipython3",
   "version": "3.5.2"
  }
 },
 "nbformat": 4,
 "nbformat_minor": 0
}
