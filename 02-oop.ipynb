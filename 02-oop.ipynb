{
 "cells": [
  {
   "cell_type": "markdown",
   "metadata": {
    "slideshow": {
     "slide_type": "slide"
    }
   },
   "source": [
    "# Objektově orientované programování"
   ]
  },
  {
   "cell_type": "markdown",
   "metadata": {
    "slideshow": {
     "slide_type": "subslide"
    }
   },
   "source": [
    "![OOP](http://i.imgur.com/Q0vFcHd.png)"
   ]
  },
  {
   "cell_type": "markdown",
   "metadata": {
    "slideshow": {
     "slide_type": "slide"
    }
   },
   "source": [
    "## Objekt\n",
    "\n",
    "= Všechno v Pythonu. K vnitřnostem objektu můžeme přistupovat pomocí tečky. Často představuje věci z reálného světa."
   ]
  },
  {
   "cell_type": "code",
   "execution_count": null,
   "metadata": {
    "collapsed": false,
    "slideshow": {
     "slide_type": "fragment"
    }
   },
   "outputs": [],
   "source": [
    "objekt = \"Iron Maiden\"\n",
    "objekt.split()"
   ]
  },
  {
   "cell_type": "code",
   "execution_count": null,
   "metadata": {
    "collapsed": false,
    "slideshow": {
     "slide_type": "fragment"
    }
   },
   "outputs": [],
   "source": [
    "# i samotné číslo je objekt\n",
    "(4).__gt__(2)"
   ]
  },
  {
   "cell_type": "code",
   "execution_count": null,
   "metadata": {
    "collapsed": false,
    "slideshow": {
     "slide_type": "fragment"
    }
   },
   "outputs": [],
   "source": [
    "# hierarchická struktura - předkem všeho je objekt\n",
    "issubclass(int, object), issubclass(float, object)"
   ]
  },
  {
   "cell_type": "markdown",
   "metadata": {
    "slideshow": {
     "slide_type": "slide"
    }
   },
   "source": [
    "## Třída\n",
    "\n",
    "= *Obecný* předpis pro vytvoření objektu. Obsahuje:\n",
    "\n",
    "- **Atributy** = proměnné zabalené v objektu.  \n",
    "- **Metody** = funkce zabalené v objektu."
   ]
  },
  {
   "cell_type": "code",
   "execution_count": null,
   "metadata": {
    "collapsed": true,
    "slideshow": {
     "slide_type": "subslide"
    }
   },
   "outputs": [],
   "source": [
    "class Pes(object):\n",
    "\n",
    "    # atribut\n",
    "    jmeno = \"Anonymous\"\n",
    "\n",
    "    # metoda\n",
    "    def stekni(self):\n",
    "        print(\"haf\")"
   ]
  },
  {
   "cell_type": "markdown",
   "metadata": {
    "slideshow": {
     "slide_type": "slide"
    }
   },
   "source": [
    "## Instance\n",
    "\n",
    "= Vytvořený objekt, *ten jeden konkrétní*.\n",
    "\n",
    "![Psiska](http://www.zajtra.sk/uploady/oop_trieda_vs_objekt.png)"
   ]
  },
  {
   "cell_type": "code",
   "execution_count": null,
   "metadata": {
    "collapsed": false,
    "slideshow": {
     "slide_type": "subslide"
    }
   },
   "outputs": [],
   "source": [
    "# vytvoření instance třídy Pes\n",
    "alik = Pes()\n",
    "alik.jmeno = \"Alík\"\n",
    "alik.stekni()"
   ]
  },
  {
   "cell_type": "code",
   "execution_count": null,
   "metadata": {
    "collapsed": true,
    "slideshow": {
     "slide_type": "fragment"
    }
   },
   "outputs": [],
   "source": [
    "# jiná instance téže třídy\n",
    "mazlik = Pes()\n",
    "mazlik.jmeno = \"Mazlík\""
   ]
  },
  {
   "cell_type": "code",
   "execution_count": null,
   "metadata": {
    "collapsed": false,
    "slideshow": {
     "slide_type": "fragment"
    }
   },
   "outputs": [],
   "source": [
    "# navzájem se neovlivňují\n",
    "alik.jmeno == mazlik.jmeno"
   ]
  },
  {
   "cell_type": "code",
   "execution_count": null,
   "metadata": {
    "collapsed": false,
    "slideshow": {
     "slide_type": "fragment"
    }
   },
   "outputs": [],
   "source": [
    "# avšak mají společné chování (definované v třídě Pes)\n",
    "for pes in [alik, mazlik]:\n",
    "    pes.stekni()"
   ]
  },
  {
   "cell_type": "markdown",
   "metadata": {
    "slideshow": {
     "slide_type": "slide"
    }
   },
   "source": [
    "## OOP v Pythonu"
   ]
  },
  {
   "cell_type": "markdown",
   "metadata": {
    "slideshow": {
     "slide_type": "fragment"
    }
   },
   "source": [
    "### Argument `self`\n",
    "\n",
    "= Automatická reference na aktuální instanci. *Povinný* u všech metod. Ostatní argumenty mohou být za ním."
   ]
  },
  {
   "cell_type": "markdown",
   "metadata": {
    "slideshow": {
     "slide_type": "fragment"
    }
   },
   "source": [
    "### Konstruktor\n",
    "\n",
    "= Metoda volaná ihned při vytvoření instance. V Pythonu používá speciální jméno: `__init__`."
   ]
  },
  {
   "cell_type": "code",
   "execution_count": null,
   "metadata": {
    "collapsed": true,
    "slideshow": {
     "slide_type": "subslide"
    }
   },
   "outputs": [],
   "source": [
    "class Pes(object):\n",
    "    jmeno = \"Anonymous\"\n",
    "    \n",
    "    # konstruktor\n",
    "    def __init__(self, konkretni_jmeno):\n",
    "        self.jmeno = konkretni_jmeno\n",
    "\n",
    "    # při štěkání se představím\n",
    "    def stekni(self):\n",
    "        print(self.jmeno, \"-\", \"haf\")"
   ]
  },
  {
   "cell_type": "code",
   "execution_count": null,
   "metadata": {
    "collapsed": false,
    "slideshow": {
     "slide_type": "fragment"
    }
   },
   "outputs": [],
   "source": [
    "psi = []\n",
    "psi.append(Pes(\"Mark\"))\n",
    "psi.append(Pes(\"Gates\"))\n",
    "for pes in psi:\n",
    "    pes.stekni()"
   ]
  },
  {
   "cell_type": "markdown",
   "metadata": {
    "slideshow": {
     "slide_type": "slide"
    }
   },
   "source": [
    "## Dědičnost\n",
    "\n",
    "= Vyjadřuje hierarchii tříd. Jedná se o *specializaci* objektů."
   ]
  },
  {
   "cell_type": "code",
   "execution_count": null,
   "metadata": {
    "collapsed": true,
    "slideshow": {
     "slide_type": "subslide"
    }
   },
   "outputs": [],
   "source": [
    "class DopravniProstredek(object):\n",
    "    \n",
    "    def __init__(self, rychlost):\n",
    "        self.rychlost = rychlost  # km/h\n",
    "\n",
    "    def cestuj(self, odkud, kam):\n",
    "        print(\"cestuji rychlostí\", self.rychlost, \"z\", odkud, \"do\", kam)"
   ]
  },
  {
   "cell_type": "code",
   "execution_count": null,
   "metadata": {
    "collapsed": false,
    "scrolled": true,
    "slideshow": {
     "slide_type": "fragment"
    }
   },
   "outputs": [],
   "source": [
    "uvidime_co_to_bude = DopravniProstredek(100000)\n",
    "uvidime_co_to_bude.cestuj(\"Země\", \"vzdálené galaxie\")"
   ]
  },
  {
   "cell_type": "code",
   "execution_count": null,
   "metadata": {
    "collapsed": true,
    "slideshow": {
     "slide_type": "subslide"
    }
   },
   "outputs": [],
   "source": [
    "class Auto(DopravniProstredek):\n",
    "    \n",
    "    # překrytá metoda - stejné parametry\n",
    "    def cestuj(self, odkud, kam):\n",
    "        self.nastartuj()\n",
    "        super().cestuj(odkud, kam)  # super() - reference na předka\n",
    "\n",
    "    # vlastní metoda - `DopravniProstredek` ji nezná\n",
    "    def nastartuj(self):\n",
    "        print(\"startuji motor\")"
   ]
  },
  {
   "cell_type": "code",
   "execution_count": null,
   "metadata": {
    "collapsed": false,
    "slideshow": {
     "slide_type": "subslide"
    }
   },
   "outputs": [],
   "source": [
    "skodovka = Auto(130)\n",
    "\n",
    "# škodovka je `Auto` => je tudíž i `DopravniProstredek` => umí cestovat\n",
    "if isinstance(skodovka, DopravniProstredek):\n",
    "    print(\"škodovka umí cestovat\")\n",
    "\n",
    "# lepší - duck-typing\n",
    "if hasattr(skodovka, \"cestuj\"):\n",
    "    print(\"škodovka určitě umí cestovat\")\n",
    "\n",
    "# nejlepší - výjimky (viz později)\n",
    "try:\n",
    "    skodovka.cestuj(\"Praha\", \"Plzeň\")\n",
    "except AttributeError:\n",
    "    print(\"škodovka neumí cestovat\")"
   ]
  },
  {
   "cell_type": "markdown",
   "metadata": {
    "slideshow": {
     "slide_type": "slide"
    }
   },
   "source": [
    "## Polymorfismus\n",
    "\n",
    "= Využití překrytých metod - používám více *různých* objektů *stejným* způsobem."
   ]
  },
  {
   "cell_type": "code",
   "execution_count": null,
   "metadata": {
    "collapsed": false,
    "slideshow": {
     "slide_type": "subslide"
    }
   },
   "outputs": [],
   "source": [
    "class Kolo(DopravniProstredek):\n",
    "    \n",
    "    def cestuj(self, odkud, kam):\n",
    "        print(\"vyjíždím z\", odkud)\n",
    "        vzdalenost = 100  # km\n",
    "        for i in range(vzdalenost // self.rychlost):\n",
    "            print(\"šlapu\")\n",
    "        print(\"přijíždím do\", kam)"
   ]
  },
  {
   "cell_type": "code",
   "execution_count": null,
   "metadata": {
    "collapsed": false,
    "slideshow": {
     "slide_type": "subslide"
    }
   },
   "outputs": [],
   "source": [
    "# více různých objektů\n",
    "dopravni_prostredky = [Kolo(30), Kolo(10), Auto(90)]\n",
    "for dp in dopravni_prostredky:\n",
    "    dp.cestuj(\"Praha\", \"Brno\")  # využití stejným způsobem\n",
    "    print(\"-\" * 40)"
   ]
  },
  {
   "cell_type": "markdown",
   "metadata": {
    "slideshow": {
     "slide_type": "slide"
    }
   },
   "source": [
    "## Skládání\n",
    "\n",
    "= Objekty obsahují jiné objekty."
   ]
  },
  {
   "cell_type": "code",
   "execution_count": null,
   "metadata": {
    "collapsed": false,
    "slideshow": {
     "slide_type": "subslide"
    }
   },
   "outputs": [],
   "source": [
    "class Garaz(object):\n",
    "    parkovaci_misto = Auto(130)\n",
    "    volne_misto = Kolo(30)\n",
    "\n",
    "# řetězení tečkové notace\n",
    "Garaz().parkovaci_misto.rychlost"
   ]
  },
  {
   "cell_type": "markdown",
   "metadata": {
    "slideshow": {
     "slide_type": "slide"
    }
   },
   "source": [
    "## Skládání nebo dědění?\n",
    "\n",
    "Typicky obojí dohromady.\n",
    "\n",
    "- **Dědění** - odpověď na otázku, co objekt *je*, čeho je *specializací*.\n",
    "- **Skládání** - odpověď na otázku, z jakých *komplexních částí* je objekt složen."
   ]
  },
  {
   "cell_type": "code",
   "execution_count": null,
   "metadata": {
    "collapsed": true,
    "slideshow": {
     "slide_type": "subslide"
    }
   },
   "outputs": [],
   "source": [
    "class Stonek(object):\n",
    "    def utrhni(self):\n",
    "        print(\"trhám stonek\")\n",
    "\n",
    "class ZelenyStonek(Stonek):  # dědičnost\n",
    "    def utrhni(self):\n",
    "        print(\"~~krrch~~\")"
   ]
  },
  {
   "cell_type": "code",
   "execution_count": null,
   "metadata": {
    "collapsed": true,
    "slideshow": {
     "slide_type": "fragment"
    }
   },
   "outputs": [],
   "source": [
    "class Rostlina(object):\n",
    "    stonek = Stonek()\n",
    "\n",
    "class Kvetina(Rostlina):  # dědičnost\n",
    "    kvet = None\n",
    "\n",
    "class Orchidej(Kvetina):  # dědičnost\n",
    "    stonek = ZelenyStonek()  # skládání\n",
    "    vune = None"
   ]
  },
  {
   "cell_type": "code",
   "execution_count": null,
   "metadata": {
    "collapsed": false,
    "slideshow": {
     "slide_type": "fragment"
    }
   },
   "outputs": [],
   "source": [
    "# polymorfismus\n",
    "Kvetina().stonek.utrhni()\n",
    "Orchidej().stonek.utrhni()"
   ]
  },
  {
   "cell_type": "markdown",
   "metadata": {
    "slideshow": {
     "slide_type": "slide"
    }
   },
   "source": [
    "## Třídní / instanční\n",
    "\n",
    "- **Instančí** = Používáme `self` nebo *referenci na instanci*.\n",
    "- **Třídní** = Používáme *[nic]*, `cls` nebo *jméno třídy*."
   ]
  },
  {
   "cell_type": "code",
   "execution_count": null,
   "metadata": {
    "collapsed": true,
    "slideshow": {
     "slide_type": "subslide"
    }
   },
   "outputs": [],
   "source": [
    "class Clovek(object):\n",
    "    \n",
    "    # třídní atribut\n",
    "    pocet_lidi = 0\n",
    "\n",
    "    # instanční metoda\n",
    "    def __init__(self, jmeno):\n",
    "        self.jmeno = jmeno  # instanční atribut\n",
    "        Clovek.pocet_lidi += 1  # třídní atribut\n",
    "        \n",
    "    # třídní metoda\n",
    "    @classmethod\n",
    "    def je_svet_prelidneny(cls):\n",
    "        return cls.pocet_lidi >= 10  # třídní atribut"
   ]
  },
  {
   "cell_type": "code",
   "execution_count": null,
   "metadata": {
    "collapsed": false,
    "slideshow": {
     "slide_type": "subslide"
    }
   },
   "outputs": [],
   "source": [
    "from random import choice\n",
    "\n",
    "jmena = \"David\", \"Martina\", \"Jana\", \"Alenka\"\n",
    "\n",
    "while True:\n",
    "    if Clovek.je_svet_prelidneny():  # přístup k třídní metodě\n",
    "        break\n",
    "    jedinec = Clovek(choice(jmena))  # přístup k instanční metodě\n",
    "    print(\"narozen:\", jedinec.jmeno, end=\", \")  # přístup k instančnímu atributu\n",
    "    print(\"celkem:\", Clovek.pocet_lidi, \"lidí\")  # přístup k třídnímu atributu"
   ]
  },
  {
   "cell_type": "markdown",
   "metadata": {
    "slideshow": {
     "slide_type": "slide"
    }
   },
   "source": [
    "## Zapouzdření\n",
    "\n",
    "= Objekt poskytuje veřejné rozhraní, na zbytek *zvenku nesahat*. Jedná se pouze o *konveci*, privátní atributy nebo metody v Pythonu neexistují."
   ]
  },
  {
   "cell_type": "code",
   "execution_count": null,
   "metadata": {
    "collapsed": false,
    "slideshow": {
     "slide_type": "subslide"
    }
   },
   "outputs": [],
   "source": [
    "class Smartphone(object):\n",
    "    \n",
    "    def __init__(self, oznaceni):\n",
    "        casti = oznaceni.split()\n",
    "        # privátní atributy\n",
    "        self._znacka = casti[0]\n",
    "        self._model = casti[1:]\n",
    "        \n",
    "    # privátní metoda\n",
    "    def _update_systemu(self):\n",
    "        print(\"updatuji system\")\n",
    "        \n",
    "    def vrat_model(self):\n",
    "        return \" \".join(self._model)"
   ]
  },
  {
   "cell_type": "code",
   "execution_count": null,
   "metadata": {
    "collapsed": false,
    "slideshow": {
     "slide_type": "fragment"
    }
   },
   "outputs": [],
   "source": [
    "mobil = Smartphone(\"Huňavej BŽ 10000\")\n",
    "    \n",
    "# NE - tohle nikdy\n",
    "mobil._model\n",
    "\n",
    "# správně\n",
    "mobil.vrat_model()"
   ]
  },
  {
   "cell_type": "markdown",
   "metadata": {
    "slideshow": {
     "slide_type": "slide"
    }
   },
   "source": [
    "![Magic!](http://i.imgur.com/KGrV41o.png)\n",
    "\n",
    "## Magické metody\n",
    "\n",
    "= Metody pojmenované `__nazev__` mají nějakou speciální funkci. [Perfektní přehled těchto metod](http://www.rafekettler.com/magicmethods.html)."
   ]
  },
  {
   "cell_type": "code",
   "execution_count": null,
   "metadata": {
    "collapsed": true,
    "slideshow": {
     "slide_type": "subslide"
    }
   },
   "outputs": [],
   "source": [
    "class Zebrik(object):\n",
    "\n",
    "    # konstruktor je magická metoda!\n",
    "    def __init__(self, delka):\n",
    "        self.delka = delka  # metry\n",
    "    \n",
    "    # volá se při použití operátoru `<` (lower than)\n",
    "    def __lt__(self, other):\n",
    "        return self.delka < other.delka\n",
    "    \n",
    "    # volá se při pokusu vypsat objekt\n",
    "    def __str__(self):\n",
    "        return \"#\" * self.delka"
   ]
  },
  {
   "cell_type": "code",
   "execution_count": null,
   "metadata": {
    "collapsed": false,
    "slideshow": {
     "slide_type": "fragment"
    }
   },
   "outputs": [],
   "source": [
    "dlouhy = Zebrik(3)\n",
    "kratky = Zebrik(1)\n",
    "# použití __lt__\n",
    "print(dlouhy < kratky)"
   ]
  },
  {
   "cell_type": "code",
   "execution_count": null,
   "metadata": {
    "collapsed": false,
    "slideshow": {
     "slide_type": "fragment"
    }
   },
   "outputs": [],
   "source": [
    "# řazení bez použití parametru `key` - interní použití __lt__\n",
    "pozarni_sklad = sorted([Zebrik(2), Zebrik(18), Zebrik(6)])\n",
    "for zebrik in pozarni_sklad:\n",
    "    print(zebrik)  # použití __str__"
   ]
  },
  {
   "cell_type": "markdown",
   "metadata": {
    "slideshow": {
     "slide_type": "slide"
    }
   },
   "source": [
    "# Příklad\n",
    "\n",
    "- Vytvořte třídu `Veta`, která umožní postupně sestavovat větu.\n",
    "- Uvnitř třídy vytvořte metodu `pridej(\"text\")`, jejíž volání půjde řetězit.\n",
    "- Jakmile bude přidaný text obsahovat tečku, inkremetujte počet vytvořených vět (použijte třídní atribut).\n",
    "- Zajistěte, aby bylo možné větu vypsat pomocí běžného `printu`."
   ]
  },
  {
   "cell_type": "code",
   "execution_count": null,
   "metadata": {
    "collapsed": false,
    "slideshow": {
     "slide_type": "skip"
    }
   },
   "outputs": [],
   "source": [
    "# TODO\n",
    "\n",
    "# požadované rozhraní\n",
    "husta_hlaska = Veta()\n",
    "husta_hlaska.pridej(\"Drsný\").pridej(\" jako \").pridej(\"šmirgl.\")\n",
    "print(husta_hlaska)\n",
    "print(Veta.pocet_vet)"
   ]
  },
  {
   "cell_type": "markdown",
   "metadata": {
    "collapsed": true,
    "slideshow": {
     "slide_type": "slide"
    }
   },
   "source": [
    "Zdroje obrázků:\n",
    "\n",
    "- https://twitter.com/philwinkle/status/688441014160355328\n",
    "- http://www.zajtra.sk/programovanie/165/objektovo-orientovane-programovanie-v-normalnej-ludskej-reci\n",
    "- https://www.reddit.com/r/funny/comments/2hu6x0/harry_speaks_python/"
   ]
  }
 ],
 "metadata": {
  "kernelspec": {
   "display_name": "Python 3",
   "language": "python",
   "name": "python3"
  },
  "language_info": {
   "codemirror_mode": {
    "name": "ipython",
    "version": 3
   },
   "file_extension": ".py",
   "mimetype": "text/x-python",
   "name": "python",
   "nbconvert_exporter": "python",
   "pygments_lexer": "ipython3",
   "version": "3.5.2"
  }
 },
 "nbformat": 4,
 "nbformat_minor": 0
}
