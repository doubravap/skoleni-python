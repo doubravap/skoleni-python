{
 "cells": [
  {
   "cell_type": "markdown",
   "metadata": {
    "slideshow": {
     "slide_type": "slide"
    }
   },
   "source": [
    "# Funkce"
   ]
  },
  {
   "cell_type": "code",
   "execution_count": null,
   "metadata": {
    "collapsed": false,
    "slideshow": {
     "slide_type": "subslide"
    }
   },
   "outputs": [],
   "source": [
    "def secist(x, y):\n",
    "    print(\"x je {}, y je {}\".format(x, y))\n",
    "    return x + y"
   ]
  },
  {
   "cell_type": "code",
   "execution_count": null,
   "metadata": {
    "collapsed": false,
    "slideshow": {
     "slide_type": "fragment"
    }
   },
   "outputs": [],
   "source": [
    "secist(5, 6)"
   ]
  },
  {
   "cell_type": "code",
   "execution_count": null,
   "metadata": {
    "collapsed": false,
    "slideshow": {
     "slide_type": "fragment"
    }
   },
   "outputs": [],
   "source": [
    "# pojmenované argumenty lze předat v libovolném pořadí\n",
    "secist(y=6, x=5)"
   ]
  },
  {
   "cell_type": "markdown",
   "metadata": {
    "slideshow": {
     "slide_type": "slide"
    }
   },
   "source": [
    "## Příklad\n",
    "\n",
    "Napište funkci, která *vrátí* N-tý člen Fibonacciho řady."
   ]
  },
  {
   "cell_type": "code",
   "execution_count": null,
   "metadata": {
    "collapsed": true,
    "slideshow": {
     "slide_type": "skip"
    }
   },
   "outputs": [],
   "source": [
    "# TODO definice funkce\n",
    "\n",
    "# TODO zavolání funkce pro N=7"
   ]
  },
  {
   "cell_type": "markdown",
   "metadata": {
    "slideshow": {
     "slide_type": "slide"
    }
   },
   "source": [
    "### Proměnné počty argumentů\n",
    "\n",
    "Nutno rozlišovat:\n",
    "- poziční = *při volání* záleží na jejich **pořadí**\n",
    "- pojmenované = *při volání* záleží na jejich **pojmenování**"
   ]
  },
  {
   "cell_type": "code",
   "execution_count": null,
   "metadata": {
    "collapsed": false,
    "slideshow": {
     "slide_type": "subslide"
    }
   },
   "outputs": [],
   "source": [
    "def zpracuj_posledni_soubor(*soubory):  # proměnný počet pozičních\n",
    "    return \"zpracováno: \" + soubory[-1]\n",
    "\n",
    "zpracuj_posledni_soubor('soubor1', 'soubor2', 'soubor3')"
   ]
  },
  {
   "cell_type": "code",
   "execution_count": null,
   "metadata": {
    "collapsed": false,
    "slideshow": {
     "slide_type": "subslide"
    }
   },
   "outputs": [],
   "source": [
    "def vypis_cele_jmeno(**data):  # proměnný počet pojmenovaných\n",
    "\n",
    "    if \"jmeno\" in data and \"prijmeni\" in data:\n",
    "        print(  \"{} {}\".format(data[\"jmeno\"], data[\"prijmeni\"])  )\n",
    "\n",
    "    elif \"prijmeni\" in data:\n",
    "        print(data[\"prijmeni\"])\n",
    "    \n",
    "    elif \"jmeno\" in data:\n",
    "        print(data[\"jmeno\"])\n",
    "    \n",
    "    else:\n",
    "        print(\"(neznámá osoba)\")\n",
    "\n",
    "vypis_cele_jmeno(jmeno=\"Milan\", vyska=180, vek=20, prijmeni=\"Frajer\")\n",
    "vypis_cele_jmeno()"
   ]
  },
  {
   "cell_type": "markdown",
   "metadata": {
    "slideshow": {
     "slide_type": "subslide"
    }
   },
   "source": [
    "**Konvence:**\n",
    "- poziční = `*args`\n",
    "- pojmenované = `**kwargs`"
   ]
  },
  {
   "cell_type": "code",
   "execution_count": null,
   "metadata": {
    "collapsed": false,
    "slideshow": {
     "slide_type": "fragment"
    }
   },
   "outputs": [],
   "source": [
    "# lze použít obojí najednou\n",
    "def vypis_vse(*args, **kwargs):\n",
    "    print(args, kwargs)  # print() vypíše všechny své parametry\n",
    "\n",
    "vypis_vse(1, 2, a=3, b=4)"
   ]
  },
  {
   "cell_type": "markdown",
   "metadata": {
    "slideshow": {
     "slide_type": "slide"
    }
   },
   "source": [
    "### Rozbaluju, rozbaluješ, rozbalujeme\n",
    "`*` nebo `**` lze použít při volání funkce k rozbalení N-tic nebo slovníků!"
   ]
  },
  {
   "cell_type": "code",
   "execution_count": null,
   "metadata": {
    "collapsed": false
   },
   "outputs": [],
   "source": [
    "ntice = (1, 2, 3, 4)\n",
    "slovnik = {\"a\": 3, \"b\": 4}\n",
    "\n",
    "vypis_vse(ntice)                 # = vypis_vse((1, 2, 3, 4)) – jeden parametr, N-tice\n",
    "vypis_vse(*ntice)                # = vypis_vse(1, 2, 3, 4) – čtyři parametry\n",
    "vypis_vse(**slovnik)             # = vypis_vse(a=3, b=4) – dva pojmenované parametry\n",
    "vypis_vse(*ntice, **slovnik)     # = vypis_vse(1, 2, 3, 4, a=3, b=4) – mix"
   ]
  },
  {
   "cell_type": "markdown",
   "metadata": {
    "slideshow": {
     "slide_type": "slide"
    }
   },
   "source": [
    "## Mini-příklad"
   ]
  },
  {
   "cell_type": "code",
   "execution_count": null,
   "metadata": {
    "collapsed": false
   },
   "outputs": [],
   "source": [
    "def nastav_budik(den, hodina, minuta=0):\n",
    "    print(\"Nastavuji budík na '{}' v '{}' hodin '{}' minut.\".format(den, hodina, minuta))\n",
    "\n",
    "\n",
    "pracovni_den = {\n",
    "    \"den\": \"pondeli\",\n",
    "    \"hodina\": 6\n",
    "}\n",
    "\n",
    "\n",
    "# TODO zavolat nastavení budíku - jak?"
   ]
  },
  {
   "cell_type": "markdown",
   "metadata": {
    "slideshow": {
     "slide_type": "slide"
    }
   },
   "source": [
    "### Viditelnost proměnných"
   ]
  },
  {
   "cell_type": "code",
   "execution_count": null,
   "metadata": {
    "collapsed": true
   },
   "outputs": [],
   "source": [
    "# vytvořme globální proměnnou x\n",
    "x = 5"
   ]
  },
  {
   "cell_type": "code",
   "execution_count": null,
   "metadata": {
    "collapsed": false,
    "slideshow": {
     "slide_type": "fragment"
    }
   },
   "outputs": [],
   "source": [
    "def nastav_x(cislo):\n",
    "    x = cislo  # lokální\n",
    "    print(x)\n",
    "    \n",
    "nastav_x(42)\n",
    "print(x)"
   ]
  },
  {
   "cell_type": "code",
   "execution_count": null,
   "metadata": {
    "collapsed": false,
    "slideshow": {
     "slide_type": "fragment"
    }
   },
   "outputs": [],
   "source": [
    "def nastav_globalni_x(cislo):\n",
    "    global x\n",
    "    print(x)  # lze číst už zde\n",
    "    x = cislo  # globální efekt\n",
    "    print(x)\n",
    "\n",
    "nastav_globalni_x(6)\n",
    "print(x)"
   ]
  },
  {
   "cell_type": "markdown",
   "metadata": {
    "slideshow": {
     "slide_type": "slide"
    }
   },
   "source": [
    "## Funkce jako *first class objects*\n",
    "\n",
    "> In short, it means there are no restrictions on the object's use."
   ]
  },
  {
   "cell_type": "code",
   "execution_count": null,
   "metadata": {
    "collapsed": true,
    "slideshow": {
     "slide_type": "fragment"
    }
   },
   "outputs": [],
   "source": [
    "def secti(a, b):\n",
    "    \"\"\"Sečte dvě čísla.\"\"\"\n",
    "    return a + b"
   ]
  },
  {
   "cell_type": "code",
   "execution_count": null,
   "metadata": {
    "collapsed": false,
    "slideshow": {
     "slide_type": "subslide"
    }
   },
   "outputs": [],
   "source": [
    "# můžeme je volat (wow)\n",
    "print(secti(1, 2))\n",
    "\n",
    "# lze je aliasovat\n",
    "add = secti\n",
    "print(add(2, 5))\n",
    "\n",
    "# lze smazat původní referenci\n",
    "del secti\n",
    "print(add(10, 11))\n",
    "\n",
    "# mají atributy\n",
    "print(add.__doc__)\n",
    "\n",
    "# lze je přepsat jinými hodnotami\n",
    "add = 3\n",
    "print(add)"
   ]
  },
  {
   "cell_type": "markdown",
   "metadata": {
    "slideshow": {
     "slide_type": "slide"
    }
   },
   "source": [
    "## Uzávěry (closures)\n",
    "\n",
    "= Funkce, které si s sebou nesou *kontext*. Fungují tak např. dekorátory."
   ]
  },
  {
   "cell_type": "code",
   "execution_count": null,
   "metadata": {
    "collapsed": false,
    "slideshow": {
     "slide_type": "subslide"
    }
   },
   "outputs": [],
   "source": [
    "from random import random\n",
    "\n",
    "def vyrob_scitacku(pricitane_cislo):\n",
    "    chyba = random()\n",
    "\n",
    "    # vytvoříme uzávěru\n",
    "    def scitacka(x):\n",
    "        # mám k dispozici:\n",
    "        # - `x` (parametr, dynamický)\n",
    "        # - `chyba` (z kontextu)\n",
    "        # - `pricitane_cislo` (z pohledu uzávěry to samé jako magicke_cislo)\n",
    "        return x + chyba + pricitane_cislo\n",
    "\n",
    "    # `scitacka` je first class object...\n",
    "    return scitacka"
   ]
  },
  {
   "cell_type": "code",
   "execution_count": null,
   "metadata": {
    "collapsed": false,
    "slideshow": {
     "slide_type": "subslide"
    }
   },
   "outputs": [],
   "source": [
    "pricti_5 = vyrob_scitacku(5)"
   ]
  },
  {
   "cell_type": "code",
   "execution_count": null,
   "metadata": {
    "collapsed": false,
    "slideshow": {
     "slide_type": "fragment"
    }
   },
   "outputs": [],
   "source": [
    "# stále stejná \"chyba\"\n",
    "print(pricti_5(10))\n",
    "print(pricti_5(5))"
   ]
  },
  {
   "cell_type": "code",
   "execution_count": null,
   "metadata": {
    "collapsed": false,
    "slideshow": {
     "slide_type": "fragment"
    }
   },
   "outputs": [],
   "source": [
    "del vyrob_scitacku"
   ]
  },
  {
   "cell_type": "code",
   "execution_count": null,
   "metadata": {
    "collapsed": false,
    "slideshow": {
     "slide_type": "fragment"
    }
   },
   "outputs": [],
   "source": [
    "# uzávěra stále drží kontext i po smazání původní funkce\n",
    "pricti_5(10)"
   ]
  },
  {
   "cell_type": "markdown",
   "metadata": {
    "slideshow": {
     "slide_type": "slide"
    }
   },
   "source": [
    "## Dekorátor\n",
    "= Funkce, která obaluje jinou funkci."
   ]
  },
  {
   "cell_type": "code",
   "execution_count": null,
   "metadata": {
    "collapsed": true,
    "slideshow": {
     "slide_type": "subslide"
    }
   },
   "outputs": [],
   "source": [
    "# použijeme pro správné přenesení dokumentace atd.\n",
    "from functools import wraps"
   ]
  },
  {
   "cell_type": "code",
   "execution_count": null,
   "metadata": {
    "collapsed": true,
    "slideshow": {
     "slide_type": "fragment"
    }
   },
   "outputs": [],
   "source": [
    "def samoucelny_dekorator(puvodni_funkce):\n",
    "    \n",
    "    # vytvořím novou funkci, která nahradí původní\n",
    "    @wraps(puvodni_funkce)\n",
    "    def nova_funkce(*args, **kwds):\n",
    "        print(\"Volám původní funkci.\")\n",
    "        return puvodni_funkce(*args, **kwds)  # uvnitř zavolám původní\n",
    "\n",
    "    return nova_funkce"
   ]
  },
  {
   "cell_type": "code",
   "execution_count": null,
   "metadata": {
    "collapsed": true,
    "slideshow": {
     "slide_type": "fragment"
    }
   },
   "outputs": [],
   "source": [
    "@samoucelny_dekorator\n",
    "def pozdrav(text):\n",
    "    print(text)"
   ]
  },
  {
   "cell_type": "code",
   "execution_count": null,
   "metadata": {
    "collapsed": false,
    "slideshow": {
     "slide_type": "fragment"
    }
   },
   "outputs": [],
   "source": [
    "pozdrav(\"Ahoj\")"
   ]
  },
  {
   "cell_type": "code",
   "execution_count": null,
   "metadata": {
    "collapsed": true,
    "slideshow": {
     "slide_type": "subslide"
    }
   },
   "outputs": [],
   "source": [
    "def nekolikrat(puvodni_funkce):\n",
    "    \n",
    "    @wraps(puvodni_funkce)\n",
    "    def nova_funkce(*args, **kwargs):\n",
    "        for i in range(3):\n",
    "            puvodni_funkce(*args, **kwargs)\n",
    "\n",
    "    return nova_funkce"
   ]
  },
  {
   "cell_type": "markdown",
   "metadata": {
    "slideshow": {
     "slide_type": "slide"
    }
   },
   "source": [
    "## Lambda funkce\n",
    "\n",
    "= Bezejmenné funkce *na jeden řádek*, automatický `return`."
   ]
  },
  {
   "cell_type": "markdown",
   "metadata": {
    "slideshow": {
     "slide_type": "fragment"
    }
   },
   "source": [
    "![kašna lambda](img/kasna-lambda.jpg)"
   ]
  },
  {
   "cell_type": "markdown",
   "metadata": {
    "slideshow": {
     "slide_type": "subslide"
    }
   },
   "source": [
    "**Použití:**\n",
    "- uzávěry\n",
    "- filtrování, mapování\n",
    "- řazení"
   ]
  },
  {
   "cell_type": "code",
   "execution_count": null,
   "metadata": {
    "collapsed": false,
    "slideshow": {
     "slide_type": "fragment"
    }
   },
   "outputs": [],
   "source": [
    "# syntaxe\n",
    "lambda x, exp: x ** exp"
   ]
  },
  {
   "cell_type": "markdown",
   "metadata": {
    "slideshow": {
     "slide_type": "slide"
    }
   },
   "source": [
    "### Uzávěra pomocí lambdy"
   ]
  },
  {
   "cell_type": "code",
   "execution_count": null,
   "metadata": {
    "collapsed": false,
    "slideshow": {
     "slide_type": "fragment"
    }
   },
   "outputs": [],
   "source": [
    "# výše uvedené ještě jednou\n",
    "def vyrob_scitacku(pricitane_cislo):\n",
    "    chyba = random()\n",
    "    return (lambda x: x + chyba + pricitane_cislo)\n",
    "\n",
    "base_of_the_universe = vyrob_scitacku(42)\n",
    "base_of_the_universe(2)"
   ]
  },
  {
   "cell_type": "markdown",
   "metadata": {
    "slideshow": {
     "slide_type": "slide"
    }
   },
   "source": [
    "### `filter` + `map`\n",
    "```\n",
    "filter(function or None, iterable) --> filter object\n",
    "\n",
    "Return an iterator yielding those items of iterable for which function(item) is true. ...\n",
    "```"
   ]
  },
  {
   "cell_type": "code",
   "execution_count": null,
   "metadata": {
    "collapsed": true,
    "slideshow": {
     "slide_type": "subslide"
    }
   },
   "outputs": [],
   "source": [
    "data = [1, 2, 8, 5, 0, 4, 7]"
   ]
  },
  {
   "cell_type": "code",
   "execution_count": null,
   "metadata": {
    "collapsed": false,
    "slideshow": {
     "slide_type": "-"
    }
   },
   "outputs": [],
   "source": [
    "# filtrování bez lambdy\n",
    "def je_sude(x):\n",
    "    return (x % 2) == 0\n",
    "\n",
    "list(filter(je_sude, data))"
   ]
  },
  {
   "cell_type": "code",
   "execution_count": null,
   "metadata": {
    "collapsed": false,
    "slideshow": {
     "slide_type": "fragment"
    }
   },
   "outputs": [],
   "source": [
    "# s lambdou\n",
    "list(filter(lambda x: x % 2 == 0, data))"
   ]
  },
  {
   "cell_type": "code",
   "execution_count": null,
   "metadata": {
    "collapsed": false,
    "slideshow": {
     "slide_type": "fragment"
    }
   },
   "outputs": [],
   "source": [
    "# mapování lambda funkce na data - vyrob druhé mocniny\n",
    "list(map(lambda x: x ** 2, data))"
   ]
  },
  {
   "cell_type": "markdown",
   "metadata": {
    "slideshow": {
     "slide_type": "slide"
    }
   },
   "source": [
    "### Řazení\n",
    "\n",
    "```\n",
    "sorted(iterable, key=None, ...)\n",
    "\n",
    "... A custom key function can be supplied ...\n",
    "```"
   ]
  },
  {
   "cell_type": "code",
   "execution_count": null,
   "metadata": {
    "collapsed": false,
    "slideshow": {
     "slide_type": "subslide"
    }
   },
   "outputs": [],
   "source": [
    "jmena = [\"Zita\", \"Adam\", \"Dan\"]\n",
    "sorted(jmena)"
   ]
  },
  {
   "cell_type": "code",
   "execution_count": null,
   "metadata": {
    "collapsed": false,
    "slideshow": {
     "slide_type": "fragment"
    }
   },
   "outputs": [],
   "source": [
    "# alternativní řadící klíč\n",
    "def posledni_pismeno(text):\n",
    "    return text[-1]\n",
    "\n",
    "sorted(jmena, key=posledni_pismeno)"
   ]
  },
  {
   "cell_type": "code",
   "execution_count": null,
   "metadata": {
    "collapsed": false,
    "slideshow": {
     "slide_type": "fragment"
    }
   },
   "outputs": [],
   "source": [
    "# s lambdou mnohem elegantnější\n",
    "sorted(jmena, key=lambda jmeno: jmeno[-1])"
   ]
  },
  {
   "cell_type": "markdown",
   "metadata": {
    "slideshow": {
     "slide_type": "slide"
    }
   },
   "source": [
    "# Anti-patterns – aneb co NEdělat"
   ]
  },
  {
   "cell_type": "code",
   "execution_count": null,
   "metadata": {
    "collapsed": false,
    "slideshow": {
     "slide_type": "subslide"
    }
   },
   "outputs": [],
   "source": [
    "# NE - vyrábět z lambdy běžnou funkci\n",
    "na_druhou = lambda x: x ** 2\n",
    "na_druhou(4)"
   ]
  },
  {
   "cell_type": "code",
   "execution_count": null,
   "metadata": {
    "collapsed": false,
    "slideshow": {
     "slide_type": "fragment"
    }
   },
   "outputs": [],
   "source": [
    "# lepší - pokud vím, že ji budu používat opakovaně\n",
    "def na_druhou(x):\n",
    "    return x ** 2\n",
    "\n",
    "na_druhou(4)"
   ]
  },
  {
   "cell_type": "code",
   "execution_count": null,
   "metadata": {
    "collapsed": false,
    "slideshow": {
     "slide_type": "subslide"
    }
   },
   "outputs": [],
   "source": [
    "# NE - vnořené lambdy\n",
    "vzorky = [\n",
    "    (3, 12, 90),\n",
    "    (2, 12, 88),\n",
    "    (2, 11, 97),\n",
    "]\n",
    "sorted(vzorky, key=lambda vzorek: max(filter(lambda x: x % 2 == 0, vzorek)))"
   ]
  },
  {
   "cell_type": "code",
   "execution_count": null,
   "metadata": {
    "collapsed": false,
    "slideshow": {
     "slide_type": "fragment"
    }
   },
   "outputs": [],
   "source": [
    "# lepší (používá definici `je_sude` výše)\n",
    "sorted(vzorky, key=lambda vzorek: max(filter(je_sude, vzorek)))"
   ]
  },
  {
   "cell_type": "code",
   "execution_count": null,
   "metadata": {
    "collapsed": false,
    "slideshow": {
     "slide_type": "fragment"
    }
   },
   "outputs": [],
   "source": [
    "# nejlepší\n",
    "def max_sude(data):\n",
    "    return max(filter(je_sude, data))\n",
    "\n",
    "sorted(vzorky, key=max_sude)"
   ]
  },
  {
   "cell_type": "markdown",
   "metadata": {
    "slideshow": {
     "slide_type": "slide"
    }
   },
   "source": [
    "# Příklad\n",
    "\n",
    "Napište lambda funkci, která po předání do `sorted` *zamíchá* řazená data."
   ]
  },
  {
   "cell_type": "code",
   "execution_count": null,
   "metadata": {
    "collapsed": false,
    "slideshow": {
     "slide_type": "-"
    }
   },
   "outputs": [],
   "source": [
    "data = list(range(20))\n",
    "\n",
    "# TODO"
   ]
  },
  {
   "cell_type": "markdown",
   "metadata": {
    "slideshow": {
     "slide_type": "skip"
    }
   },
   "source": [
    "Zdroje obrázků:\n",
    "- http://plzensky.denik.cz/zpravy_region/zlate-kasny-na-namesti-i-po-sesti-letech-stale-budi-vasne-20160513.html"
   ]
  }
 ],
 "metadata": {
  "kernelspec": {
   "display_name": "Python 3",
   "language": "python",
   "name": "python3"
  },
  "language_info": {
   "codemirror_mode": {
    "name": "ipython",
    "version": 3
   },
   "file_extension": ".py",
   "mimetype": "text/x-python",
   "name": "python",
   "nbconvert_exporter": "python",
   "pygments_lexer": "ipython3",
   "version": "3.5.3"
  }
 },
 "nbformat": 4,
 "nbformat_minor": 0
}
